{
  "cells": [
    {
      "cell_type": "markdown",
      "metadata": {
        "id": "VHpWNWFj71PQ"
      },
      "source": [
        "# AI-Powered Task Management System - Part 1: EDA & NLP Preprocessing\n",
        "###  Name: Chandra\n",
        "###  Date: July 2025"
      ]
    },
    {
      "cell_type": "code",
      "execution_count": 1,
      "metadata": {
        "id": "5gTe5CUTu00G"
      },
      "outputs": [],
      "source": [
        "# Importing Libraries\n",
        "import numpy as np\n",
        "import pandas as pd\n",
        "import matplotlib.pyplot as plt\n",
        "import seaborn as sns\n",
        "from datetime import datetime\n",
        "import warnings\n",
        "warnings.filterwarnings('ignore')\n",
        "\n",
        "## Natural Language Processing Libraries\n",
        "import nltk\n",
        "from nltk.tokenize import word_tokenize\n",
        "from nltk.corpus import stopwords\n",
        "from nltk.stem import WordNetLemmatizer\n",
        "from nltk.stem import PorterStemmer\n",
        "from nltk.tag import pos_tag\n",
        "from sklearn.feature_extraction.text import CountVectorizer\n",
        "from sklearn.feature_extraction.text import TfidfVectorizer\n",
        "import re\n",
        "import string\n",
        "\n",
        "import warnings\n",
        "warnings.filterwarnings('ignore')"
      ]
    },
    {
      "cell_type": "code",
      "execution_count": 2,
      "metadata": {
        "colab": {
          "base_uri": "https://localhost:8080/"
        },
        "id": "PHqW3Cqx9WiN",
        "outputId": "b724ff3a-48bc-48d4-cf80-3362e077fc2f"
      },
      "outputs": [
        {
          "name": "stderr",
          "output_type": "stream",
          "text": [
            "[nltk_data] Downloading package punkt to C:\\Users\\Chandra\n",
            "[nltk_data]     Sena\\AppData\\Roaming\\nltk_data...\n",
            "[nltk_data]   Package punkt is already up-to-date!\n",
            "[nltk_data] Downloading package stopwords to C:\\Users\\Chandra\n",
            "[nltk_data]     Sena\\AppData\\Roaming\\nltk_data...\n",
            "[nltk_data]   Package stopwords is already up-to-date!\n",
            "[nltk_data] Downloading package wordnet to C:\\Users\\Chandra\n",
            "[nltk_data]     Sena\\AppData\\Roaming\\nltk_data...\n",
            "[nltk_data]   Package wordnet is already up-to-date!\n",
            "[nltk_data] Downloading package averaged_perceptron_tagger to\n",
            "[nltk_data]     C:\\Users\\Chandra Sena\\AppData\\Roaming\\nltk_data...\n",
            "[nltk_data]   Package averaged_perceptron_tagger is already up-to-\n",
            "[nltk_data]       date!\n",
            "[nltk_data] Downloading package omw-1.4 to C:\\Users\\Chandra\n",
            "[nltk_data]     Sena\\AppData\\Roaming\\nltk_data...\n"
          ]
        },
        {
          "name": "stdout",
          "output_type": "stream",
          "text": [
            "All libraries imported successfully!\n"
          ]
        },
        {
          "name": "stderr",
          "output_type": "stream",
          "text": [
            "[nltk_data]   Package omw-1.4 is already up-to-date!\n",
            "[nltk_data] Downloading package punkt_tab to C:\\Users\\Chandra\n",
            "[nltk_data]     Sena\\AppData\\Roaming\\nltk_data...\n",
            "[nltk_data]   Package punkt_tab is already up-to-date!\n",
            "[nltk_data] Downloading package averaged_perceptron_tagger_eng to\n",
            "[nltk_data]     C:\\Users\\Chandra Sena\\AppData\\Roaming\\nltk_data...\n",
            "[nltk_data]   Package averaged_perceptron_tagger_eng is already up-to-\n",
            "[nltk_data]       date!\n"
          ]
        }
      ],
      "source": [
        "# Download required NLTK data\n",
        "nltk.download('punkt')\n",
        "nltk.download('stopwords')\n",
        "nltk.download('wordnet')\n",
        "nltk.download('averaged_perceptron_tagger')\n",
        "nltk.download('omw-1.4')\n",
        "nltk.download('punkt_tab')\n",
        "nltk.download('averaged_perceptron_tagger_eng')\n",
        "print(\"All libraries imported successfully!\")"
      ]
    },
    {
      "cell_type": "markdown",
      "metadata": {
        "id": "BOuzz1qo9jnE"
      },
      "source": [
        "# EXPLORATORY DATA ANALYSIS (EDA) AND DATA CLEANING"
      ]
    },
    {
      "cell_type": "code",
      "execution_count": 3,
      "metadata": {
        "id": "6Zkkr8BO9hvQ"
      },
      "outputs": [],
      "source": [
        "df = pd.read_csv('D:\\AI TASK MANAGEMENT\\Finalised Task Management.csv')"
      ]
    },
    {
      "cell_type": "code",
      "execution_count": 4,
      "metadata": {
        "colab": {
          "base_uri": "https://localhost:8080/",
          "height": 327
        },
        "id": "ZytQo7dS98k3",
        "outputId": "a56a2820-97b9-449e-bf7e-a28f7457a127"
      },
      "outputs": [
        {
          "data": {
            "text/html": [
              "<div>\n",
              "<style scoped>\n",
              "    .dataframe tbody tr th:only-of-type {\n",
              "        vertical-align: middle;\n",
              "    }\n",
              "\n",
              "    .dataframe tbody tr th {\n",
              "        vertical-align: top;\n",
              "    }\n",
              "\n",
              "    .dataframe thead th {\n",
              "        text-align: right;\n",
              "    }\n",
              "</style>\n",
              "<table border=\"1\" class=\"dataframe\">\n",
              "  <thead>\n",
              "    <tr style=\"text-align: right;\">\n",
              "      <th></th>\n",
              "      <th>Issue Key</th>\n",
              "      <th>Summary</th>\n",
              "      <th>Description</th>\n",
              "      <th>Assignee</th>\n",
              "      <th>Reporter</th>\n",
              "      <th>Issue Type</th>\n",
              "      <th>Priority</th>\n",
              "      <th>Status</th>\n",
              "      <th>Component</th>\n",
              "      <th>Created</th>\n",
              "      <th>Due Date</th>\n",
              "    </tr>\n",
              "  </thead>\n",
              "  <tbody>\n",
              "    <tr>\n",
              "      <th>0</th>\n",
              "      <td>SWP-1</td>\n",
              "      <td>User Authentication Failure</td>\n",
              "      <td>Users unable to log in due to OAuth 2.0 token ...</td>\n",
              "      <td>Bob</td>\n",
              "      <td>Heidi</td>\n",
              "      <td>Bug</td>\n",
              "      <td>High</td>\n",
              "      <td>In Progress</td>\n",
              "      <td>Authentication</td>\n",
              "      <td>11-06-2025</td>\n",
              "      <td>25-06-2025</td>\n",
              "    </tr>\n",
              "    <tr>\n",
              "      <th>1</th>\n",
              "      <td>SWP-2</td>\n",
              "      <td>Payment Gateway Transaction Error</td>\n",
              "      <td>Stripe payments intermittently fail with 500 e...</td>\n",
              "      <td>Eve</td>\n",
              "      <td>Grace</td>\n",
              "      <td>Bug</td>\n",
              "      <td>High</td>\n",
              "      <td>Open</td>\n",
              "      <td>Payment Processing</td>\n",
              "      <td>05-07-2025</td>\n",
              "      <td>16-07-2025</td>\n",
              "    </tr>\n",
              "    <tr>\n",
              "      <th>2</th>\n",
              "      <td>SWP-3</td>\n",
              "      <td>Database Migration Tool</td>\n",
              "      <td>Create automated database migration scripts to...</td>\n",
              "      <td>Bob</td>\n",
              "      <td>Judy</td>\n",
              "      <td>Task</td>\n",
              "      <td>High</td>\n",
              "      <td>Done</td>\n",
              "      <td>Database</td>\n",
              "      <td>02-06-2025</td>\n",
              "      <td>10-06-2025</td>\n",
              "    </tr>\n",
              "    <tr>\n",
              "      <th>3</th>\n",
              "      <td>SWP-4</td>\n",
              "      <td>Push Notification Delivery Issue</td>\n",
              "      <td>Push notifications not delivered to iOS device...</td>\n",
              "      <td>Eve</td>\n",
              "      <td>Ivan</td>\n",
              "      <td>Bug</td>\n",
              "      <td>Medium</td>\n",
              "      <td>In Progress</td>\n",
              "      <td>Notifications</td>\n",
              "      <td>23-06-2025</td>\n",
              "      <td>08-07-2025</td>\n",
              "    </tr>\n",
              "    <tr>\n",
              "      <th>4</th>\n",
              "      <td>SWP-5</td>\n",
              "      <td>API Rate Limiting Implementation</td>\n",
              "      <td>Build robust API rate limiting system with Red...</td>\n",
              "      <td>Frank</td>\n",
              "      <td>Ivan</td>\n",
              "      <td>Task</td>\n",
              "      <td>High</td>\n",
              "      <td>In Progress</td>\n",
              "      <td>API</td>\n",
              "      <td>04-06-2025</td>\n",
              "      <td>16-06-2025</td>\n",
              "    </tr>\n",
              "  </tbody>\n",
              "</table>\n",
              "</div>"
            ],
            "text/plain": [
              "  Issue Key                            Summary  \\\n",
              "0     SWP-1        User Authentication Failure   \n",
              "1     SWP-2  Payment Gateway Transaction Error   \n",
              "2     SWP-3            Database Migration Tool   \n",
              "3     SWP-4   Push Notification Delivery Issue   \n",
              "4     SWP-5   API Rate Limiting Implementation   \n",
              "\n",
              "                                         Description Assignee Reporter  \\\n",
              "0  Users unable to log in due to OAuth 2.0 token ...      Bob    Heidi   \n",
              "1  Stripe payments intermittently fail with 500 e...      Eve    Grace   \n",
              "2  Create automated database migration scripts to...      Bob     Judy   \n",
              "3  Push notifications not delivered to iOS device...      Eve     Ivan   \n",
              "4  Build robust API rate limiting system with Red...    Frank     Ivan   \n",
              "\n",
              "  Issue Type Priority       Status           Component     Created    Due Date  \n",
              "0        Bug     High  In Progress      Authentication  11-06-2025  25-06-2025  \n",
              "1        Bug     High         Open  Payment Processing  05-07-2025  16-07-2025  \n",
              "2       Task     High         Done            Database  02-06-2025  10-06-2025  \n",
              "3        Bug   Medium  In Progress       Notifications  23-06-2025  08-07-2025  \n",
              "4       Task     High  In Progress                 API  04-06-2025  16-06-2025  "
            ]
          },
          "execution_count": 4,
          "metadata": {},
          "output_type": "execute_result"
        }
      ],
      "source": [
        "df.head()"
      ]
    },
    {
      "cell_type": "code",
      "execution_count": 5,
      "metadata": {
        "colab": {
          "base_uri": "https://localhost:8080/"
        },
        "id": "31OTsiZb9_lG",
        "outputId": "a64d2c10-7123-49ee-a498-44bb648041e5"
      },
      "outputs": [
        {
          "name": "stdout",
          "output_type": "stream",
          "text": [
            "Dataset shape: (194, 11)\n"
          ]
        }
      ],
      "source": [
        "print(f\"Dataset shape: {df.shape}\")"
      ]
    },
    {
      "cell_type": "code",
      "execution_count": 6,
      "metadata": {
        "colab": {
          "base_uri": "https://localhost:8080/"
        },
        "id": "S4CBakTc-Haz",
        "outputId": "80209982-1cc5-4f1c-8f4d-80a8dcc570bc"
      },
      "outputs": [
        {
          "name": "stdout",
          "output_type": "stream",
          "text": [
            "\n",
            "Column names and data types:\n",
            "Issue Key      object\n",
            "Summary        object\n",
            "Description    object\n",
            "Assignee       object\n",
            "Reporter       object\n",
            "Issue Type     object\n",
            "Priority       object\n",
            "Status         object\n",
            "Component      object\n",
            "Created        object\n",
            "Due Date       object\n",
            "dtype: object\n"
          ]
        }
      ],
      "source": [
        "print(\"\\nColumn names and data types:\")\n",
        "print(df.dtypes)"
      ]
    },
    {
      "cell_type": "markdown",
      "metadata": {
        "id": "__4qxQyS-kbA"
      },
      "source": [
        "We can see that the Created and Due date are object type, we will convert them to datetime in further data analysis process."
      ]
    },
    {
      "cell_type": "code",
      "execution_count": 7,
      "metadata": {
        "colab": {
          "base_uri": "https://localhost:8080/"
        },
        "id": "fUjzXPj7-PIW",
        "outputId": "c2363662-55ae-4dcd-fa91-53445a30b3a7"
      },
      "outputs": [
        {
          "name": "stdout",
          "output_type": "stream",
          "text": [
            "Missing values per column:\n",
            "             Missing count  Missing percentage\n",
            "Issue Key                0                 0.0\n",
            "Summary                  0                 0.0\n",
            "Description              0                 0.0\n",
            "Assignee                 0                 0.0\n",
            "Reporter                 0                 0.0\n",
            "Issue Type               0                 0.0\n",
            "Priority                 0                 0.0\n",
            "Status                   0                 0.0\n",
            "Component                0                 0.0\n",
            "Created                  0                 0.0\n",
            "Due Date                 0                 0.0\n"
          ]
        }
      ],
      "source": [
        "# Check for missing values\n",
        "print(\"Missing values per column:\")\n",
        "missing_data = df.isnull().sum()\n",
        "missing_percentage = (missing_data / len(df)) * 100\n",
        "missing_df = pd.DataFrame({\n",
        "    'Missing count': missing_data,\n",
        "    'Missing percentage': missing_percentage\n",
        "})\n",
        "print(missing_df)"
      ]
    },
    {
      "cell_type": "code",
      "execution_count": 8,
      "metadata": {
        "colab": {
          "base_uri": "https://localhost:8080/"
        },
        "id": "S9bJKKP5-4dP",
        "outputId": "a8a6dd0e-6f24-4fbd-8fb9-7129649a9082"
      },
      "outputs": [
        {
          "name": "stdout",
          "output_type": "stream",
          "text": [
            "Number of duplicate record: 0\n"
          ]
        }
      ],
      "source": [
        "# Checking for duplicate records\n",
        "print(f\"Number of duplicate record: {df.duplicated().sum()}\")"
      ]
    },
    {
      "cell_type": "code",
      "execution_count": 9,
      "metadata": {
        "colab": {
          "base_uri": "https://localhost:8080/"
        },
        "id": "Z18dT7gK_yea",
        "outputId": "d22a6290-43d6-4daa-de3f-6caa0e5d05f2"
      },
      "outputs": [
        {
          "name": "stdout",
          "output_type": "stream",
          "text": [
            "\n",
            "Issue Type - Value counts:\n",
            "Issue Type\n",
            "Story    95\n",
            "Bug      43\n",
            "Task     41\n",
            "Epic     15\n",
            "Name: count, dtype: int64\n",
            "Unique values: 4\n",
            "\n",
            "Priority - Value counts:\n",
            "Priority\n",
            "Medium    121\n",
            "High       67\n",
            "Low         6\n",
            "Name: count, dtype: int64\n",
            "Unique values: 3\n",
            "\n",
            "Status - Value counts:\n",
            "Status\n",
            "In Progress    93\n",
            "Done           56\n",
            "Open           43\n",
            "Blocked         2\n",
            "Name: count, dtype: int64\n",
            "Unique values: 4\n",
            "\n",
            "Component - Value counts:\n",
            "Component\n",
            "Analytics            27\n",
            "CRM                   9\n",
            "Workflow              7\n",
            "Monitoring            5\n",
            "Testing               5\n",
            "                     ..\n",
            "Fraud Detection       1\n",
            "Code Review           1\n",
            "Data Governance       1\n",
            "CDN                   1\n",
            "Change Management     1\n",
            "Name: count, Length: 94, dtype: int64\n",
            "Unique values: 94\n",
            "\n",
            "Assignee - Value counts:\n",
            "Assignee\n",
            "Frank      39\n",
            "Charlie    35\n",
            "Bob        31\n",
            "Diana      31\n",
            "Eve        29\n",
            "Alice      29\n",
            "Name: count, dtype: int64\n",
            "Unique values: 6\n",
            "\n",
            "Reporter - Value counts:\n",
            "Reporter\n",
            "Heidi    54\n",
            "Grace    53\n",
            "Ivan     47\n",
            "Judy     40\n",
            "Name: count, dtype: int64\n",
            "Unique values: 4\n"
          ]
        }
      ],
      "source": [
        "# Categorical columns analysis / Descriptive statics\n",
        "categorical_cols = ['Issue Type', 'Priority', 'Status', 'Component', 'Assignee', 'Reporter']\n",
        "\n",
        "for col in categorical_cols:\n",
        "    print(f\"\\n{col} - Value counts:\")\n",
        "    print(df[col].value_counts())\n",
        "    print(f\"Unique values: {df[col].nunique()}\")"
      ]
    },
    {
      "cell_type": "markdown",
      "metadata": {
        "id": "je-B2HC70pp8"
      },
      "source": [
        "# DATA VISUALIZATION"
      ]
    },
    {
      "cell_type": "code",
      "execution_count": 10,
      "metadata": {
        "colab": {
          "base_uri": "https://localhost:8080/",
          "height": 844
        },
        "id": "a25Qw3h7_4ma",
        "outputId": "8db2c7fa-d838-47d7-a19e-e53c4f1f5bdb"
      },
      "outputs": [
        {
          "data": {
            "image/png": "[encoded data removed]",
            "text/plain": [
              "<Figure size 1600x1200 with 6 Axes>"
            ]
          },
          "metadata": {},
          "output_type": "display_data"
        }
      ],
      "source": [
        "plt.style.use('seaborn-v0_8-darkgrid')\n",
        "fig, axes = plt.subplots(2, 3, figsize=(16, 12))\n",
        "fig.suptitle('Task Management System - Data Distribution', fontsize=16)\n",
        "\n",
        "# Issue Type Distribution\n",
        "df['Issue Type'].value_counts().plot(kind='bar', ax=axes[0,0], color='skyblue')\n",
        "axes[0,0].set_title('Issue Type Distribution')\n",
        "axes[0,0].set_xlabel('Issue Type')\n",
        "axes[0,0].set_ylabel('Count')\n",
        "axes[0,0].tick_params(axis='x', rotation=45)\n",
        "\n",
        "# Priority Distribution\n",
        "df['Priority'].value_counts().plot(kind='pie', ax=axes[0,1], autopct='%1.1f%%', colors=['red', 'orange', 'green'])\n",
        "axes[0,1].set_title('Priority Distribution')\n",
        "axes[0,1].set_ylabel('')\n",
        "\n",
        "# Status Distribution\n",
        "df['Status'].value_counts().plot(kind='bar', ax=axes[0,2], color='lightcoral')\n",
        "axes[0,2].set_title('Status Distribution')\n",
        "axes[0,2].set_xlabel('Status')\n",
        "axes[0,2].set_ylabel('Count')\n",
        "axes[0,2].tick_params(axis='x', rotation=45)\n",
        "\n",
        "# Assignee Workload\n",
        "df['Assignee'].value_counts().plot(kind='bar', ax=axes[1,0], color='lightgreen')\n",
        "axes[1,0].set_title('Assignee Workload')\n",
        "axes[1,0].set_xlabel('Assignee')\n",
        "axes[1,0].set_ylabel('Number of Tasks')\n",
        "axes[1,0].tick_params(axis='x', rotation=45)\n",
        "\n",
        "# Top 10 Components\n",
        "top_components = df['Component'].value_counts().head(10)\n",
        "top_components.plot(kind='barh', ax=axes[1,1], color='gold')\n",
        "axes[1,1].set_title('Top 10 Components')\n",
        "axes[1,1].set_xlabel('Number of Tasks')\n",
        "\n",
        "# Priority vs Status Cross-tabulation\n",
        "priority_status = pd.crosstab(df['Priority'], df['Status'])\n",
        "priority_status.plot(kind='bar', ax=axes[1,2], stacked=True)\n",
        "axes[1,2].set_title('Priority vs Status')\n",
        "axes[1,2].set_xlabel('Priority')\n",
        "axes[1,2].set_ylabel('Count')\n",
        "axes[1,2].legend(title='Status', bbox_to_anchor=(1.05, 1), loc='upper left')\n",
        "axes[1,2].tick_params(axis='x', rotation=0)\n",
        "\n",
        "plt.tight_layout()\n",
        "plt.show()"
      ]
    },
    {
      "cell_type": "markdown",
      "metadata": {
        "id": "U6FVsX4I2HyK"
      },
      "source": [
        "# DATA ANALYSIS"
      ]
    },
    {
      "cell_type": "code",
      "execution_count": 11,
      "metadata": {
        "id": "kcRW28I21hQ_"
      },
      "outputs": [],
      "source": [
        "# Convert date to datetime\n",
        "df['Created'] = pd.to_datetime(df['Created'], format='%d-%m-%Y')\n",
        "df['Due Date'] = pd.to_datetime(df['Due Date'], format='%d-%m-%Y')"
      ]
    },
    {
      "cell_type": "code",
      "execution_count": 12,
      "metadata": {
        "id": "pZ7yuD6g2jkr"
      },
      "outputs": [],
      "source": [
        "# Calculate days to complete\n",
        "df['Days to Complete'] = (df['Due Date'] - df['Created']).dt.days"
      ]
    },
    {
      "cell_type": "code",
      "execution_count": 13,
      "metadata": {
        "colab": {
          "base_uri": "https://localhost:8080/",
          "height": 241
        },
        "id": "5vEXTXa33Sy3",
        "outputId": "0869b56d-0ff2-444a-86f1-59df3b36c850"
      },
      "outputs": [
        {
          "data": {
            "text/plain": [
              "0    14\n",
              "1    11\n",
              "2     8\n",
              "3    15\n",
              "4    12\n",
              "Name: Days to Complete, dtype: int64"
            ]
          },
          "execution_count": 13,
          "metadata": {},
          "output_type": "execute_result"
        }
      ],
      "source": [
        "df['Days to Complete'].head()"
      ]
    },
    {
      "cell_type": "code",
      "execution_count": 14,
      "metadata": {
        "id": "q8eL6phF3eBT"
      },
      "outputs": [],
      "source": [
        "# Adding date features\n",
        "df['Created_Month'] = df['Created'].dt.month\n",
        "df['Created_Day_of_Week'] = df['Created'].dt.dayofweek\n",
        "df['Due_Month'] = df['Due Date'].dt.month\n",
        "\n",
        "# These columns are useful for analyzing task creation and due date patterns based on the month and day of the week."
      ]
    },
    {
      "cell_type": "code",
      "execution_count": 15,
      "metadata": {
        "colab": {
          "base_uri": "https://localhost:8080/"
        },
        "id": "_XeRTzB-34Xk",
        "outputId": "9f39191f-08c1-4dd7-ae9d-b4b28bcaa6ad"
      },
      "outputs": [
        {
          "name": "stdout",
          "output_type": "stream",
          "text": [
            "Average days to complete: 10.27\n",
            "Median days to complete: 11.00\n",
            "Minimum days to complete: 3\n",
            "Maximum days to complete: 15\n"
          ]
        }
      ],
      "source": [
        "print(f\"Average days to complete: {df['Days to Complete'].mean():.2f}\")\n",
        "print(f\"Median days to complete: {df['Days to Complete'].median():.2f}\")\n",
        "print(f\"Minimum days to complete: {df['Days to Complete'].min()}\")\n",
        "print(f\"Maximum days to complete: {df['Days to Complete'].max()}\")"
      ]
    },
    {
      "cell_type": "markdown",
      "metadata": {
        "id": "y_fPtJdE5zW-"
      },
      "source": [
        "# DATA CLEANING"
      ]
    },
    {
      "cell_type": "code",
      "execution_count": 16,
      "metadata": {
        "id": "lGyOlIYe5TLm"
      },
      "outputs": [],
      "source": [
        "# Creating a copy for cleaning\n",
        "df_clean = df.copy()"
      ]
    },
    {
      "cell_type": "code",
      "execution_count": 17,
      "metadata": {
        "id": "9Q7one-Y6MtW"
      },
      "outputs": [],
      "source": [
        "# Removing any whitespaces, trailings etc using strip function\n",
        "text_columns = ['Summary', 'Description', 'Assignee', 'Reporter', 'Component']\n",
        "for col in text_columns:\n",
        "  df_clean[col] = df_clean[col].str.strip()"
      ]
    },
    {
      "cell_type": "code",
      "execution_count": 18,
      "metadata": {
        "id": "opf39XHx6r4V"
      },
      "outputs": [],
      "source": [
        "# Standardize text casinf for consistency\n",
        "df_clean['Issue Type'] = df_clean['Issue Type'].str.title()\n",
        "df_clean['Status'] = df_clean['Status'].str.title()\n",
        "df_clean['Priority'] = df_clean['Priority'].str.title()"
      ]
    },
    {
      "cell_type": "code",
      "execution_count": 19,
      "metadata": {
        "colab": {
          "base_uri": "https://localhost:8080/"
        },
        "id": "Zt2vnlOU6-Wc",
        "outputId": "f2d0c728-7278-4690-eb91-13f7bf5fa763"
      },
      "outputs": [
        {
          "data": {
            "text/plain": [
              "(194, 15)"
            ]
          },
          "execution_count": 19,
          "metadata": {},
          "output_type": "execute_result"
        }
      ],
      "source": [
        "# Print the cleaned dataset shape\n",
        "df_clean.shape"
      ]
    },
    {
      "cell_type": "code",
      "execution_count": 20,
      "metadata": {
        "colab": {
          "base_uri": "https://localhost:8080/",
          "height": 573
        },
        "id": "zsE6zJFv7EAx",
        "outputId": "67e6954e-7175-4580-ff5b-9a758f7ba0ab"
      },
      "outputs": [
        {
          "data": {
            "text/html": [
              "<div>\n",
              "<style scoped>\n",
              "    .dataframe tbody tr th:only-of-type {\n",
              "        vertical-align: middle;\n",
              "    }\n",
              "\n",
              "    .dataframe tbody tr th {\n",
              "        vertical-align: top;\n",
              "    }\n",
              "\n",
              "    .dataframe thead th {\n",
              "        text-align: right;\n",
              "    }\n",
              "</style>\n",
              "<table border=\"1\" class=\"dataframe\">\n",
              "  <thead>\n",
              "    <tr style=\"text-align: right;\">\n",
              "      <th></th>\n",
              "      <th>Issue Key</th>\n",
              "      <th>Summary</th>\n",
              "      <th>Description</th>\n",
              "      <th>Assignee</th>\n",
              "      <th>Reporter</th>\n",
              "      <th>Issue Type</th>\n",
              "      <th>Priority</th>\n",
              "      <th>Status</th>\n",
              "      <th>Component</th>\n",
              "      <th>Created</th>\n",
              "      <th>Due Date</th>\n",
              "      <th>Days to Complete</th>\n",
              "      <th>Created_Month</th>\n",
              "      <th>Created_Day_of_Week</th>\n",
              "      <th>Due_Month</th>\n",
              "    </tr>\n",
              "  </thead>\n",
              "  <tbody>\n",
              "    <tr>\n",
              "      <th>0</th>\n",
              "      <td>SWP-1</td>\n",
              "      <td>User Authentication Failure</td>\n",
              "      <td>Users unable to log in due to OAuth 2.0 token ...</td>\n",
              "      <td>Bob</td>\n",
              "      <td>Heidi</td>\n",
              "      <td>Bug</td>\n",
              "      <td>High</td>\n",
              "      <td>In Progress</td>\n",
              "      <td>Authentication</td>\n",
              "      <td>2025-06-11</td>\n",
              "      <td>2025-06-25</td>\n",
              "      <td>14</td>\n",
              "      <td>6</td>\n",
              "      <td>2</td>\n",
              "      <td>6</td>\n",
              "    </tr>\n",
              "    <tr>\n",
              "      <th>1</th>\n",
              "      <td>SWP-2</td>\n",
              "      <td>Payment Gateway Transaction Error</td>\n",
              "      <td>Stripe payments intermittently fail with 500 e...</td>\n",
              "      <td>Eve</td>\n",
              "      <td>Grace</td>\n",
              "      <td>Bug</td>\n",
              "      <td>High</td>\n",
              "      <td>Open</td>\n",
              "      <td>Payment Processing</td>\n",
              "      <td>2025-07-05</td>\n",
              "      <td>2025-07-16</td>\n",
              "      <td>11</td>\n",
              "      <td>7</td>\n",
              "      <td>5</td>\n",
              "      <td>7</td>\n",
              "    </tr>\n",
              "    <tr>\n",
              "      <th>2</th>\n",
              "      <td>SWP-3</td>\n",
              "      <td>Database Migration Tool</td>\n",
              "      <td>Create automated database migration scripts to...</td>\n",
              "      <td>Bob</td>\n",
              "      <td>Judy</td>\n",
              "      <td>Task</td>\n",
              "      <td>High</td>\n",
              "      <td>Done</td>\n",
              "      <td>Database</td>\n",
              "      <td>2025-06-02</td>\n",
              "      <td>2025-06-10</td>\n",
              "      <td>8</td>\n",
              "      <td>6</td>\n",
              "      <td>0</td>\n",
              "      <td>6</td>\n",
              "    </tr>\n",
              "    <tr>\n",
              "      <th>3</th>\n",
              "      <td>SWP-4</td>\n",
              "      <td>Push Notification Delivery Issue</td>\n",
              "      <td>Push notifications not delivered to iOS device...</td>\n",
              "      <td>Eve</td>\n",
              "      <td>Ivan</td>\n",
              "      <td>Bug</td>\n",
              "      <td>Medium</td>\n",
              "      <td>In Progress</td>\n",
              "      <td>Notifications</td>\n",
              "      <td>2025-06-23</td>\n",
              "      <td>2025-07-08</td>\n",
              "      <td>15</td>\n",
              "      <td>6</td>\n",
              "      <td>0</td>\n",
              "      <td>7</td>\n",
              "    </tr>\n",
              "    <tr>\n",
              "      <th>4</th>\n",
              "      <td>SWP-5</td>\n",
              "      <td>API Rate Limiting Implementation</td>\n",
              "      <td>Build robust API rate limiting system with Red...</td>\n",
              "      <td>Frank</td>\n",
              "      <td>Ivan</td>\n",
              "      <td>Task</td>\n",
              "      <td>High</td>\n",
              "      <td>In Progress</td>\n",
              "      <td>API</td>\n",
              "      <td>2025-06-04</td>\n",
              "      <td>2025-06-16</td>\n",
              "      <td>12</td>\n",
              "      <td>6</td>\n",
              "      <td>2</td>\n",
              "      <td>6</td>\n",
              "    </tr>\n",
              "  </tbody>\n",
              "</table>\n",
              "</div>"
            ],
            "text/plain": [
              "  Issue Key                            Summary  \\\n",
              "0     SWP-1        User Authentication Failure   \n",
              "1     SWP-2  Payment Gateway Transaction Error   \n",
              "2     SWP-3            Database Migration Tool   \n",
              "3     SWP-4   Push Notification Delivery Issue   \n",
              "4     SWP-5   API Rate Limiting Implementation   \n",
              "\n",
              "                                         Description Assignee Reporter  \\\n",
              "0  Users unable to log in due to OAuth 2.0 token ...      Bob    Heidi   \n",
              "1  Stripe payments intermittently fail with 500 e...      Eve    Grace   \n",
              "2  Create automated database migration scripts to...      Bob     Judy   \n",
              "3  Push notifications not delivered to iOS device...      Eve     Ivan   \n",
              "4  Build robust API rate limiting system with Red...    Frank     Ivan   \n",
              "\n",
              "  Issue Type Priority       Status           Component    Created   Due Date  \\\n",
              "0        Bug     High  In Progress      Authentication 2025-06-11 2025-06-25   \n",
              "1        Bug     High         Open  Payment Processing 2025-07-05 2025-07-16   \n",
              "2       Task     High         Done            Database 2025-06-02 2025-06-10   \n",
              "3        Bug   Medium  In Progress       Notifications 2025-06-23 2025-07-08   \n",
              "4       Task     High  In Progress                 API 2025-06-04 2025-06-16   \n",
              "\n",
              "   Days to Complete  Created_Month  Created_Day_of_Week  Due_Month  \n",
              "0                14              6                    2          6  \n",
              "1                11              7                    5          7  \n",
              "2                 8              6                    0          6  \n",
              "3                15              6                    0          7  \n",
              "4                12              6                    2          6  "
            ]
          },
          "execution_count": 20,
          "metadata": {},
          "output_type": "execute_result"
        }
      ],
      "source": [
        "df_clean.head()"
      ]
    },
    {
      "cell_type": "code",
      "execution_count": 21,
      "metadata": {
        "colab": {
          "base_uri": "https://localhost:8080/"
        },
        "id": "AodxiXFSPrmP",
        "outputId": "fb16fa93-837f-4808-81b2-67d084ebcca1"
      },
      "outputs": [
        {
          "data": {
            "text/plain": [
              "Index(['Issue Key', 'Summary', 'Description', 'Assignee', 'Reporter',\n",
              "       'Issue Type', 'Priority', 'Status', 'Component', 'Created', 'Due Date',\n",
              "       'Days to Complete', 'Created_Month', 'Created_Day_of_Week',\n",
              "       'Due_Month'],\n",
              "      dtype='object')"
            ]
          },
          "execution_count": 21,
          "metadata": {},
          "output_type": "execute_result"
        }
      ],
      "source": [
        "df_clean.columns"
      ]
    },
    {
      "cell_type": "markdown",
      "metadata": {
        "id": "xcp3fHkcAAOO"
      },
      "source": [
        "# NLP PREPROCESSING"
      ]
    },
    {
      "cell_type": "code",
      "execution_count": 22,
      "metadata": {
        "id": "MDosLWDE7HQy"
      },
      "outputs": [],
      "source": [
        "# Initializie NLP tools\n",
        "stemmer = PorterStemmer()\n",
        "lemmatizer = WordNetLemmatizer()\n",
        "stop_words = set(stopwords.words('english'))"
      ]
    },
    {
      "cell_type": "markdown",
      "metadata": {
        "id": "M5f7e2iiQHbj"
      },
      "source": [
        "Using customized stopwords for more Robust NLP process"
      ]
    },
    {
      "cell_type": "code",
      "execution_count": 23,
      "metadata": {
        "id": "AyaLI8vxP7T-"
      },
      "outputs": [],
      "source": [
        "# Basic task management terms\n",
        "task_management_stopwords = {\n",
        "    'task', 'tasks', 'issue', 'issues', 'ticket', 'tickets', 'story', 'stories',\n",
        "    'epic', 'epics', 'bug', 'bugs', 'defect', 'defects', 'item', 'items',\n",
        "    'request', 'requests', 'requirement', 'requirements', 'feature', 'features'\n",
        "}"
      ]
    },
    {
      "cell_type": "code",
      "execution_count": 24,
      "metadata": {
        "id": "TJ2G4X2SQdJh"
      },
      "outputs": [],
      "source": [
        "# Software development terms\n",
        "software_dev_stopwords = {\n",
        "    'system', 'systems', 'application', 'applications', 'app', 'apps',\n",
        "    'software', 'program', 'programs', 'code', 'coding', 'development',\n",
        "    'develop', 'developer', 'developers', 'dev', 'implementation',\n",
        "    'implement', 'implementing', 'build', 'building', 'create', 'creating',\n",
        "    'design', 'designing', 'solution', 'solutions', 'project', 'projects'\n",
        "}"
      ]
    },
    {
      "cell_type": "code",
      "execution_count": 25,
      "metadata": {
        "id": "wTXuoIn5Qe9H"
      },
      "outputs": [],
      "source": [
        "# User-related terms\n",
        "user_stopwords = {\n",
        "    'user', 'users', 'customer', 'customers', 'client', 'clients',\n",
        "    'end-user', 'enduser', 'admin', 'administrator', 'administrators',\n",
        "    'operator', 'operators', 'stakeholder', 'stakeholders'\n",
        "}"
      ]
    },
    {
      "cell_type": "code",
      "execution_count": 26,
      "metadata": {
        "id": "axVxfNk7Qh8x"
      },
      "outputs": [],
      "source": [
        "# Action words (common in task descriptions)\n",
        "action_stopwords = {\n",
        "    'need', 'needs', 'needed', 'require', 'required', 'requires', 'requiring',\n",
        "    'want', 'wants', 'wanted', 'should', 'must', 'have', 'has', 'had',\n",
        "    'will', 'would', 'could', 'can', 'cannot', 'able', 'unable',\n",
        "    'make', 'makes', 'made', 'making', 'do', 'does', 'did', 'doing',\n",
        "    'get', 'gets', 'got', 'getting', 'take', 'takes', 'took', 'taking',\n",
        "    'give', 'gives', 'gave', 'giving', 'put', 'puts', 'putting',\n",
        "    'add', 'adds', 'added', 'adding', 'remove', 'removes', 'removed', 'removing',\n",
        "    'update', 'updates', 'updated', 'updating', 'change', 'changes', 'changed', 'changing',\n",
        "    'fix', 'fixes', 'fixed', 'fixing', 'solve', 'solves', 'solved', 'solving',\n",
        "    'resolve', 'resolves', 'resolved', 'resolving', 'handle', 'handles', 'handled', 'handling'\n",
        "}"
      ]
    },
    {
      "cell_type": "code",
      "execution_count": 27,
      "metadata": {
        "id": "2XrdSOijQkac"
      },
      "outputs": [],
      "source": [
        "# Technical process terms\n",
        "process_stopwords = {\n",
        "    'process', 'processes', 'processing', 'procedure', 'procedures',\n",
        "    'method', 'methods', 'methodology', 'approach', 'approaches',\n",
        "    'way', 'ways', 'step', 'steps', 'phase', 'phases',\n",
        "    'workflow', 'workflows', 'pipeline', 'pipelines'\n",
        "}"
      ]
    },
    {
      "cell_type": "code",
      "execution_count": 28,
      "metadata": {
        "id": "NFSifG6CQmKV"
      },
      "outputs": [],
      "source": [
        "# Quality testing terms\n",
        "quality_stopwords = {\n",
        "    'test', 'tests', 'testing', 'tested', 'tester', 'testers',\n",
        "    'quality', 'qa', 'qc', 'validation', 'verify', 'verification',\n",
        "    'check', 'checks', 'checked', 'checking', 'review', 'reviews',\n",
        "    'reviewed', 'reviewing', 'approve', 'approved', 'approval'\n",
        "}\n"
      ]
    },
    {
      "cell_type": "code",
      "execution_count": 29,
      "metadata": {
        "id": "bi46GEEg8nM9"
      },
      "outputs": [],
      "source": [
        "# Data and technical terms\n",
        "data_tech_stopwords = {\n",
        "    'data', 'database', 'db', 'table', 'tables', 'field', 'fields',\n",
        "    'column', 'columns', 'row', 'rows', 'record', 'records',\n",
        "    'file', 'files', 'document', 'documents', 'report', 'reports',\n",
        "    'configuration', 'config', 'settings', 'setting', 'parameter', 'parameters',\n",
        "    'variable', 'variables', 'value', 'values', 'property', 'properties'\n",
        "}"
      ]
    },
    {
      "cell_type": "code",
      "execution_count": 30,
      "metadata": {
        "id": "wFMlcVt88pti"
      },
      "outputs": [],
      "source": [
        "# Platform and environment terms\n",
        "platform_stopwords = {\n",
        "    'platform', 'platforms', 'environment', 'environments', 'server', 'servers',\n",
        "    'client', 'clients', 'web', 'website', 'site', 'page', 'pages',\n",
        "    'interface', 'interfaces', 'ui', 'ux', 'gui', 'api', 'apis',\n",
        "    'service', 'services', 'component', 'components', 'module', 'modules',\n",
        "    'library', 'libraries', 'framework', 'frameworks', 'tool', 'tools'\n",
        "}"
      ]
    },
    {
      "cell_type": "code",
      "execution_count": 31,
      "metadata": {
        "id": "xIT9fe4H8v-1"
      },
      "outputs": [],
      "source": [
        "# Business and management terms\n",
        "business_stopwords = {\n",
        "    'business', 'company', 'organization', 'team', 'teams', 'department',\n",
        "    'departments', 'management', 'manager', 'managers', 'lead', 'leads',\n",
        "    'owner', 'owners', 'stakeholder', 'stakeholders', 'vendor', 'vendors',\n",
        "    'client', 'clients', 'customer', 'customers'\n",
        "}"
      ]
    },
    {
      "cell_type": "code",
      "execution_count": 32,
      "metadata": {
        "id": "_nb58IFq8xme"
      },
      "outputs": [],
      "source": [
        "# Time and priority terms\n",
        "time_priority_stopwords = {\n",
        "    'time', 'times', 'timing', 'schedule', 'scheduled', 'scheduling',\n",
        "    'deadline', 'deadlines', 'due', 'urgent', 'priority', 'priorities',\n",
        "    'important', 'critical', 'asap', 'immediately', 'quick', 'quickly',\n",
        "    'fast', 'slow', 'early', 'late', 'delay', 'delayed'\n",
        "}"
      ]
    },
    {
      "cell_type": "code",
      "execution_count": 33,
      "metadata": {
        "id": "rM-Ml6OB8zTl"
      },
      "outputs": [],
      "source": [
        "# Generic filler words\n",
        "filler_stopwords = {\n",
        "    'thing', 'things', 'stuff', 'something', 'anything', 'everything',\n",
        "    'nothing', 'someone', 'anyone', 'everyone', 'somewhere', 'anywhere',\n",
        "    'everywhere', 'somehow', 'anyhow', 'anyway', 'etc', 'ect'\n",
        "}"
      ]
    },
    {
      "cell_type": "code",
      "execution_count": 34,
      "metadata": {
        "id": "uBafikY381Ag"
      },
      "outputs": [],
      "source": [
        "# Communication terms\n",
        "communication_stopwords = {\n",
        "    'email', 'emails', 'message', 'messages', 'notification', 'notifications',\n",
        "    'alert', 'alerts', 'reminder', 'reminders', 'communication', 'communicate',\n",
        "    'contact', 'contacts', 'call', 'calls', 'meeting', 'meetings',\n",
        "    'discussion', 'discussions', 'feedback', 'comment', 'comments'\n",
        "}"
      ]
    },
    {
      "cell_type": "code",
      "execution_count": 35,
      "metadata": {
        "id": "XjPC0Hkw83LT"
      },
      "outputs": [],
      "source": [
        "# Status and state terms\n",
        "status_stopwords = {\n",
        "    'status', 'state', 'states', 'condition', 'conditions', 'situation',\n",
        "    'situations', 'case', 'cases', 'scenario', 'scenarios', 'example',\n",
        "    'examples', 'instance', 'instances', 'occurrence', 'occurrences'\n",
        "}"
      ]
    },
    {
      "cell_type": "code",
      "execution_count": 36,
      "metadata": {
        "id": "vYVIkFXs89PE"
      },
      "outputs": [],
      "source": [
        "# Combine all custom stopword sets\n",
        "all_custom_stopwords = (\n",
        "    task_management_stopwords | software_dev_stopwords | user_stopwords |\n",
        "    action_stopwords | process_stopwords | quality_stopwords |\n",
        "    data_tech_stopwords | platform_stopwords | business_stopwords |\n",
        "    time_priority_stopwords | filler_stopwords | communication_stopwords |\n",
        "    status_stopwords\n",
        ")"
      ]
    },
    {
      "cell_type": "code",
      "execution_count": 37,
      "metadata": {
        "id": "PowPbV778_S5"
      },
      "outputs": [],
      "source": [
        "# Add domain-specific abbreviations and acronyms\n",
        "abbreviations_stopwords = {\n",
        "    'api', 'ui', 'ux', 'db', 'sql', 'html', 'css', 'js', 'json', 'xml',\n",
        "    'http', 'https', 'url', 'uri', 'rest', 'soap', 'crud', 'mvc',\n",
        "    'ci', 'cd', 'devops', 'qa', 'qc', 'sla', 'kpi', 'roi', 'mvp',\n",
        "    'poc', 'crm', 'erp', 'cms', 'lms', 'aws', 'gcp', 'azure',\n",
        "    'ios', 'android', 'mac', 'pc', 'linux', 'windows', 'docker',\n",
        "    'kubernetes', 'git', 'github', 'gitlab', 'jenkins', 'jira'\n",
        "}"
      ]
    },
    {
      "cell_type": "code",
      "execution_count": 38,
      "metadata": {
        "id": "OyYrEcqh9C4t"
      },
      "outputs": [],
      "source": [
        "# Add technical file extensions and formats\n",
        "file_format_stopwords = {\n",
        "    'pdf', 'doc', 'docx', 'xls', 'xlsx', 'ppt', 'pptx', 'txt', 'csv',\n",
        "    'jpg', 'jpeg', 'png', 'gif', 'svg', 'mp4', 'avi', 'mp3', 'wav',\n",
        "    'zip', 'rar', 'tar', 'gz', 'exe', 'dll', 'jar', 'war'\n",
        "}"
      ]
    },
    {
      "cell_type": "code",
      "execution_count": 39,
      "metadata": {
        "id": "OiwS93mm9Eri"
      },
      "outputs": [],
      "source": [
        "# Combine with abbreviations and file formats\n",
        "all_custom_stopwords = all_custom_stopwords | abbreviations_stopwords | file_format_stopwords"
      ]
    },
    {
      "cell_type": "code",
      "execution_count": 40,
      "metadata": {
        "id": "uBahg_ob9G94"
      },
      "outputs": [],
      "source": [
        "def create_enhanced_stopwords():\n",
        "    from nltk.corpus import stopwords\n",
        "    standard_stopwords = set(stopwords.words('english'))\n",
        "    enhanced_stopwords = standard_stopwords | all_custom_stopwords\n",
        "    return enhanced_stopwords"
      ]
    },
    {
      "cell_type": "code",
      "execution_count": 41,
      "metadata": {
        "colab": {
          "base_uri": "https://localhost:8080/"
        },
        "id": "M1f8OyUo9bA9",
        "outputId": "846b6096-3c6e-4cde-b355-3fb7a17f6372"
      },
      "outputs": [
        {
          "name": "stdout",
          "output_type": "stream",
          "text": [
            "Enhanced Custom Stopwords Summary:\n",
            "==================================================\n",
            "Task Management Terms: 22\n",
            "Software Development Terms: 29\n",
            "User-related Terms: 15\n",
            "Action Words: 77\n",
            "Process Terms: 20\n",
            "Quality/Testing Terms: 23\n",
            "Data/Technical Terms: 31\n",
            "Platform/Environment Terms: 32\n",
            "Business/Management Terms: 22\n",
            "Time/Priority Terms: 24\n",
            "Filler Words: 18\n",
            "Communication Terms: 23\n",
            "Status/State Terms: 17\n",
            "Abbreviations: 48\n",
            "File Formats: 26\n",
            "==================================================\n",
            "Total Custom Stopwords: 413\n"
          ]
        }
      ],
      "source": [
        "print(\"Enhanced Custom Stopwords Summary:\")\n",
        "print(\"=\"*50)\n",
        "print(f\"Task Management Terms: {len(task_management_stopwords)}\")\n",
        "print(f\"Software Development Terms: {len(software_dev_stopwords)}\")\n",
        "print(f\"User-related Terms: {len(user_stopwords)}\")\n",
        "print(f\"Action Words: {len(action_stopwords)}\")\n",
        "print(f\"Process Terms: {len(process_stopwords)}\")\n",
        "print(f\"Quality/Testing Terms: {len(quality_stopwords)}\")\n",
        "print(f\"Data/Technical Terms: {len(data_tech_stopwords)}\")\n",
        "print(f\"Platform/Environment Terms: {len(platform_stopwords)}\")\n",
        "print(f\"Business/Management Terms: {len(business_stopwords)}\")\n",
        "print(f\"Time/Priority Terms: {len(time_priority_stopwords)}\")\n",
        "print(f\"Filler Words: {len(filler_stopwords)}\")\n",
        "print(f\"Communication Terms: {len(communication_stopwords)}\")\n",
        "print(f\"Status/State Terms: {len(status_stopwords)}\")\n",
        "print(f\"Abbreviations: {len(abbreviations_stopwords)}\")\n",
        "print(f\"File Formats: {len(file_format_stopwords)}\")\n",
        "print(\"=\"*50)\n",
        "print(f\"Total Custom Stopwords: {len(all_custom_stopwords)}\")"
      ]
    },
    {
      "cell_type": "code",
      "execution_count": 42,
      "metadata": {
        "id": "kDqMFoj59n0o"
      },
      "outputs": [],
      "source": [
        "stop_words = create_enhanced_stopwords()"
      ]
    },
    {
      "cell_type": "code",
      "execution_count": 43,
      "metadata": {
        "id": "YYIQvs_w-Uv9"
      },
      "outputs": [],
      "source": [
        "def clean_text(text):\n",
        "    if pd.isna(text):\n",
        "        return \"\"\n",
        "\n",
        "    # Convert to lowercase\n",
        "    text = text.lower()\n",
        "\n",
        "    # Remove URLs\n",
        "    text = re.sub(r'http[s]?://\\S+', '', text)\n",
        "\n",
        "    # Remove email addresses\n",
        "    text = re.sub(r'\\b[A-Za-z0-9._%+-]+@[A-Za-z0-9.-]+\\.[A-Z|a-z]{2,}\\b', '', text)\n",
        "\n",
        "    # Remove HTML tags\n",
        "    text = re.sub(r'<[^>]+>', '', text)\n",
        "\n",
        "    # Remove special characters and digits\n",
        "    text = re.sub(r'[^a-zA-Z\\s]', '', text)\n",
        "\n",
        "    # Remove extra whitespaces\n",
        "    text = re.sub(r'\\s+', ' ', text).strip()\n",
        "\n",
        "    return text"
      ]
    },
    {
      "cell_type": "code",
      "execution_count": 44,
      "metadata": {
        "id": "cu6aO-xW-Xyw"
      },
      "outputs": [],
      "source": [
        "def tokenize_text(text):\n",
        "    if not text:\n",
        "        return []\n",
        "\n",
        "    tokens = word_tokenize(text)\n",
        "    return tokens"
      ]
    },
    {
      "cell_type": "code",
      "execution_count": 45,
      "metadata": {
        "id": "gDI5975Z-qSE"
      },
      "outputs": [],
      "source": [
        "def remove_stopwords(tokens):\n",
        "    filtered_tokens = [token for token in tokens if token.lower() not in stop_words]\n",
        "    return filtered_tokens"
      ]
    },
    {
      "cell_type": "code",
      "execution_count": 46,
      "metadata": {
        "id": "nfaV9p51-tau"
      },
      "outputs": [],
      "source": [
        "def stem_tokens(tokens):\n",
        "    stemmed_tokens = [stemmer.stem(token) for token in tokens]\n",
        "    return stemmed_tokens"
      ]
    },
    {
      "cell_type": "code",
      "execution_count": 47,
      "metadata": {
        "id": "DYOhCmvq-xlA"
      },
      "outputs": [],
      "source": [
        "def lemmatize_tokens(tokens):\n",
        "    # Get POS tags for better lemmatization\n",
        "    pos_tags = pos_tag(tokens)\n",
        "\n",
        "    def get_wordnet_pos(treebank_tag):\n",
        "        \"\"\"Convert treebank POS tag to WordNet POS tag\"\"\"\n",
        "        if treebank_tag.startswith('J'):\n",
        "            return 'a'  # adjective\n",
        "        elif treebank_tag.startswith('V'):\n",
        "            return 'v'  # verb\n",
        "        elif treebank_tag.startswith('N'):\n",
        "            return 'n'  # noun\n",
        "        elif treebank_tag.startswith('R'):\n",
        "            return 'r'  # adverb\n",
        "        else:\n",
        "            return 'n'  # default to noun\n",
        "\n",
        "    lemmatized_tokens = []\n",
        "    for token, pos in pos_tags:\n",
        "        wordnet_pos = get_wordnet_pos(pos)\n",
        "        lemmatized_token = lemmatizer.lemmatize(token, pos=wordnet_pos)\n",
        "        lemmatized_tokens.append(lemmatized_token)\n",
        "\n",
        "    return lemmatized_tokens"
      ]
    },
    {
      "cell_type": "code",
      "execution_count": 48,
      "metadata": {
        "id": "8mzz8Yxq_iY-"
      },
      "outputs": [],
      "source": [
        "def preprocess_text(text):\n",
        "# Step 1: Clean text\n",
        "    cleaned_text = clean_text(text)\n",
        "\n",
        "# Step 2: Tokenize\n",
        "    tokens = tokenize_text(cleaned_text)\n",
        "\n",
        "# Step 3: Remove stopwords\n",
        "    filtered_tokens = remove_stopwords(tokens)\n",
        "\n",
        "# Step 4: Stemming\n",
        "    stemmed_tokens = stem_tokens(filtered_tokens)\n",
        "\n",
        "# Step 5: Lemmatization\n",
        "    lemmatized_tokens = lemmatize_tokens(filtered_tokens)\n",
        "\n",
        "    return {\n",
        "        'cleaned_text': cleaned_text,\n",
        "        'tokens': tokens,\n",
        "        'filtered_tokens': filtered_tokens,\n",
        "        'stemmed_tokens': stemmed_tokens,\n",
        "        'lemmatized_tokens': lemmatized_tokens,\n",
        "        'processed_text_stem': ' '.join(stemmed_tokens),\n",
        "        'processed_text_lemma': ' '.join(lemmatized_tokens)\n",
        "    }"
      ]
    },
    {
      "cell_type": "code",
      "execution_count": 49,
      "metadata": {
        "colab": {
          "base_uri": "https://localhost:8080/"
        },
        "id": "1ozJIUt0_sU0",
        "outputId": "8ccb2b25-63f7-431f-fba3-d1ea60389a68"
      },
      "outputs": [
        {
          "name": "stdout",
          "output_type": "stream",
          "text": [
            "Processing Summary column...\n"
          ]
        }
      ],
      "source": [
        "# Process Summary column\n",
        "print(\"Processing Summary column...\")\n",
        "df_clean['summary_processed'] = df_clean['Summary'].apply(lambda x: preprocess_text(x))"
      ]
    },
    {
      "cell_type": "code",
      "execution_count": 50,
      "metadata": {
        "colab": {
          "base_uri": "https://localhost:8080/"
        },
        "id": "Sg_Iemx5AYhy",
        "outputId": "0e456fe1-4c9f-4e33-d4a7-6ade16a6702e"
      },
      "outputs": [
        {
          "name": "stdout",
          "output_type": "stream",
          "text": [
            "Processing Description column...\n"
          ]
        }
      ],
      "source": [
        "# Process Description column\n",
        "print(\"Processing Description column...\")\n",
        "df_clean['description_processed'] = df_clean['Description'].apply(lambda x: preprocess_text(x))"
      ]
    },
    {
      "cell_type": "code",
      "execution_count": 51,
      "metadata": {
        "id": "m81DgIrfAgsV"
      },
      "outputs": [],
      "source": [
        "# Extract processed text for further analysis\n",
        "df_clean['summary_cleaned'] = df_clean['summary_processed'].apply(lambda x: x['cleaned_text'])\n",
        "df_clean['summary_tokens'] = df_clean['summary_processed'].apply(lambda x: x['tokens'])\n",
        "df_clean['summary_lemmatized'] = df_clean['summary_processed'].apply(lambda x: x['processed_text_lemma'])\n",
        "df_clean['summary_stemmed'] = df_clean['summary_processed'].apply(lambda x: x['processed_text_stem'])"
      ]
    },
    {
      "cell_type": "code",
      "execution_count": 52,
      "metadata": {
        "id": "EuoB_UydAhLG"
      },
      "outputs": [],
      "source": [
        "df_clean['description_cleaned'] = df_clean['description_processed'].apply(lambda x: x['cleaned_text'])\n",
        "df_clean['description_tokens'] = df_clean['description_processed'].apply(lambda x: x['tokens'])\n",
        "df_clean['description_lemmatized'] = df_clean['description_processed'].apply(lambda x: x['processed_text_lemma'])\n",
        "df_clean['description_stemmed'] = df_clean['description_processed'].apply(lambda x: x['processed_text_stem'])"
      ]
    },
    {
      "cell_type": "code",
      "execution_count": 53,
      "metadata": {
        "id": "3ob1ZKKCAlEX"
      },
      "outputs": [],
      "source": [
        "# Combine summary and description for comprehensive text analysis\n",
        "df_clean['combined_text'] = df_clean['summary_cleaned'] + ' ' + df_clean['description_cleaned']\n",
        "df_clean['combined_lemmatized'] = df_clean['summary_lemmatized'] + ' ' + df_clean['description_lemmatized']"
      ]
    },
    {
      "cell_type": "markdown",
      "metadata": {
        "id": "ZJ779Cv3AujJ"
      },
      "source": [
        "# TEXT ANALYSIS RESULTS"
      ]
    },
    {
      "cell_type": "code",
      "execution_count": 54,
      "metadata": {
        "id": "FJGPMmXaAtT0"
      },
      "outputs": [],
      "source": [
        "sample_idx = 0\n",
        "original_summary = df_clean.iloc[sample_idx]['Summary']\n",
        "original_description = df_clean.iloc[sample_idx]['Description']"
      ]
    },
    {
      "cell_type": "code",
      "execution_count": 55,
      "metadata": {
        "colab": {
          "base_uri": "https://localhost:8080/"
        },
        "id": "5OfuO-5RA29J",
        "outputId": "0be6c227-3fef-4768-f197-d857455acac7"
      },
      "outputs": [
        {
          "name": "stdout",
          "output_type": "stream",
          "text": [
            "Original Summary: User Authentication Failure\n",
            "Cleaned Summary: user authentication failure\n",
            "Tokens: ['user', 'authentication', 'failure']\n",
            "Lemmatized: authentication failure\n",
            "Stemmed: authent failur\n"
          ]
        }
      ],
      "source": [
        "print(f\"Original Summary: {original_summary}\")\n",
        "print(f\"Cleaned Summary: {df_clean.iloc[sample_idx]['summary_cleaned']}\")\n",
        "print(f\"Tokens: {df_clean.iloc[sample_idx]['summary_tokens']}\")\n",
        "print(f\"Lemmatized: {df_clean.iloc[sample_idx]['summary_lemmatized']}\")\n",
        "print(f\"Stemmed: {df_clean.iloc[sample_idx]['summary_stemmed']}\")"
      ]
    },
    {
      "cell_type": "code",
      "execution_count": 56,
      "metadata": {
        "colab": {
          "base_uri": "https://localhost:8080/"
        },
        "id": "RpouUsHNA7fX",
        "outputId": "2ac97a7b-2c45-46e2-e823-7ed96b6c4f25"
      },
      "outputs": [
        {
          "name": "stdout",
          "output_type": "stream",
          "text": [
            "\n",
            "Original Description: Users unable to log in due to OAuth 2.0 token refresh failure, causing session timeouts.\n",
            "Cleaned Description: users unable to log in due to oauth token refresh failure causing session timeouts\n",
            "Lemmatized: log oauth token refresh failure cause session timeouts\n"
          ]
        }
      ],
      "source": [
        "print(f\"\\nOriginal Description: {original_description}\")\n",
        "print(f\"Cleaned Description: {df_clean.iloc[sample_idx]['description_cleaned']}\")\n",
        "print(f\"Lemmatized: {df_clean.iloc[sample_idx]['description_lemmatized']}\")"
      ]
    },
    {
      "cell_type": "code",
      "execution_count": 57,
      "metadata": {
        "colab": {
          "base_uri": "https://localhost:8080/"
        },
        "id": "U18fyxqABBaW",
        "outputId": "63db03d6-8d8c-46f4-9b62-2aa3a9e2226c"
      },
      "outputs": [
        {
          "name": "stdout",
          "output_type": "stream",
          "text": [
            "Average words in summary: 2.89\n",
            "Average words in description: 11.91\n",
            "Average total words: 14.80\n"
          ]
        }
      ],
      "source": [
        "# Text statistics\n",
        "df_clean['summary_word_count'] = df_clean['summary_tokens'].apply(len)\n",
        "df_clean['description_word_count'] = df_clean['description_tokens'].apply(len)\n",
        "df_clean['combined_word_count'] = df_clean['summary_word_count'] + df_clean['description_word_count']\n",
        "\n",
        "print(f\"Average words in summary: {df_clean['summary_word_count'].mean():.2f}\")\n",
        "print(f\"Average words in description: {df_clean['description_word_count'].mean():.2f}\")\n",
        "print(f\"Average total words: {df_clean['combined_word_count'].mean():.2f}\")"
      ]
    },
    {
      "cell_type": "code",
      "execution_count": 58,
      "metadata": {
        "id": "Cirdz2pTBMlz"
      },
      "outputs": [],
      "source": [
        "# Most common words analysis\n",
        "\n",
        "from collections import Counter\n",
        "\n",
        "all_tokens = []\n",
        "for tokens in df_clean['summary_tokens']:\n",
        "    all_tokens.extend(tokens)\n",
        "for tokens in df_clean['description_tokens']:\n",
        "    all_tokens.extend(tokens)"
      ]
    },
    {
      "cell_type": "code",
      "execution_count": 59,
      "metadata": {
        "id": "z-p9CUsiBqFQ"
      },
      "outputs": [],
      "source": [
        "# Remove stopwords for word frequency analysis\n",
        "filtered_tokens = [token for token in all_tokens if token.lower() not in stop_words and len(token) > 2]\n",
        "word_freq = Counter(filtered_tokens)"
      ]
    },
    {
      "cell_type": "code",
      "execution_count": 60,
      "metadata": {
        "colab": {
          "base_uri": "https://localhost:8080/"
        },
        "id": "av5tB0i6BwN9",
        "outputId": "eec557c6-b31e-415b-831e-812e747afc37"
      },
      "outputs": [
        {
          "name": "stdout",
          "output_type": "stream",
          "text": [
            "\n",
            "Top 30 most common words:\n",
            "tracking: 77\n",
            "analysis: 34\n",
            "monitoring: 33\n",
            "optimization: 30\n",
            "performance: 23\n",
            "analytics: 22\n",
            "capabilities: 20\n",
            "reporting: 18\n",
            "planning: 18\n",
            "failure: 14\n",
            "error: 13\n",
            "integration: 13\n",
            "automation: 13\n",
            "content: 12\n",
            "collection: 12\n",
            "compliance: 12\n",
            "digital: 12\n",
            "resource: 12\n",
            "identification: 12\n",
            "automated: 11\n",
            "intelligence: 11\n",
            "fails: 11\n",
            "improvement: 11\n",
            "access: 10\n",
            "risk: 10\n",
            "metrics: 10\n",
            "sync: 9\n",
            "assessment: 9\n",
            "response: 8\n",
            "strategy: 8\n"
          ]
        }
      ],
      "source": [
        "print(f\"\\nTop 30 most common words:\")\n",
        "for word, freq in word_freq.most_common(30):\n",
        "    print(f\"{word}: {freq}\")"
      ]
    },
    {
      "cell_type": "markdown",
      "metadata": {
        "id": "GEBy2FNsB2HP"
      },
      "source": [
        "# SAVING THE FINAL DATA"
      ]
    },
    {
      "cell_type": "code",
      "execution_count": 61,
      "metadata": {
        "id": "P6CuDtkhBygr"
      },
      "outputs": [],
      "source": [
        "# Selecting relevant columns\n",
        "columns_to_keep = [\n",
        "    'Issue Key', 'Summary', 'Description', 'Assignee', 'Reporter',\n",
        "    'Issue Type', 'Priority', 'Status', 'Component', 'Created', 'Due Date',\n",
        "    'Days to Complete', 'Created_Month', 'Created_Day_of_Week', 'Due_Month',\n",
        "    'summary_cleaned', 'description_cleaned', 'combined_text',\n",
        "    'summary_lemmatized', 'description_lemmatized', 'combined_lemmatized',\n",
        "    'summary_word_count', 'description_word_count', 'combined_word_count'\n",
        "]\n",
        "\n",
        "df_final = df_clean[columns_to_keep].copy()"
      ]
    },
    {
      "cell_type": "code",
      "execution_count": 66,
      "metadata": {
        "id": "gogwuI2ZCE-P"
      },
      "outputs": [],
      "source": [
        "# Save the processed dataset\n",
        "df_final.to_csv('Task_management_processed.csv', index=False)"
      ]
    },
    {
      "cell_type": "code",
      "execution_count": 67,
      "metadata": {
        "colab": {
          "base_uri": "https://localhost:8080/"
        },
        "id": "5mWMsaZJCYVT",
        "outputId": "783a331a-0ada-4d4b-db30-0b608efa3d3f"
      },
      "outputs": [
        {
          "name": "stdout",
          "output_type": "stream",
          "text": [
            "Final dataset shape: (194, 24)\n"
          ]
        }
      ],
      "source": [
        "print(f\"Final dataset shape: {df_final.shape}\")"
      ]
    },
    {
      "cell_type": "code",
      "execution_count": 64,
      "metadata": {
        "colab": {
          "base_uri": "https://localhost:8080/"
        },
        "id": "bqNSxKADCYs3",
        "outputId": "10e1bebe-7361-4ba9-db4b-650fc528b704"
      },
      "outputs": [
        {
          "name": "stdout",
          "output_type": "stream",
          "text": [
            "Columns in final dataset: \n",
            "1. Issue Key\n",
            "2. Summary\n",
            "3. Description\n",
            "4. Assignee\n",
            "5. Reporter\n",
            "6. Issue Type\n",
            "7. Priority\n",
            "8. Status\n",
            "9. Component\n",
            "10. Created\n",
            "11. Due Date\n",
            "12. Days to Complete\n",
            "13. Created_Month\n",
            "14. Created_Day_of_Week\n",
            "15. Due_Month\n",
            "16. summary_cleaned\n",
            "17. description_cleaned\n",
            "18. combined_text\n",
            "19. summary_lemmatized\n",
            "20. description_lemmatized\n",
            "21. combined_lemmatized\n",
            "22. summary_word_count\n",
            "23. description_word_count\n",
            "24. combined_word_count\n"
          ]
        }
      ],
      "source": [
        "print('Columns in final dataset: ')\n",
        "for i, col in enumerate(df_final.columns):\n",
        "    print(f\"{i+1}. {col}\")"
      ]
    },
    {
      "cell_type": "code",
      "execution_count": null,
      "metadata": {
        "id": "7uO_AUqzC3hB"
      },
      "outputs": [],
      "source": []
    }
  ],
  "metadata": {
    "colab": {
      "provenance": []
    },
    "kernelspec": {
      "display_name": ".venv",
      "language": "python",
      "name": "python3"
    },
    "language_info": {
      "codemirror_mode": {
        "name": "ipython",
        "version": 3
      },
      "file_extension": ".py",
      "mimetype": "text/x-python",
      "name": "python",
      "nbconvert_exporter": "python",
      "pygments_lexer": "ipython3",
      "version": "3.12.10"
    }
  },
  "nbformat": 4,
  "nbformat_minor": 0
}
